{
  "nbformat": 4,
  "nbformat_minor": 0,
  "metadata": {
    "colab": {
      "name": "Ml_Proj.ipynb",
      "version": "0.3.2",
      "provenance": [],
      "collapsed_sections": [],
      "toc_visible": true,
      "include_colab_link": true
    },
    "kernelspec": {
      "name": "python3",
      "display_name": "Python 3"
    },
    "accelerator": "GPU"
  },
  "cells": [
    {
      "cell_type": "markdown",
      "metadata": {
        "id": "view-in-github",
        "colab_type": "text"
      },
      "source": [
        "<a href=\"https://colab.research.google.com/github/hailK11/WeatherPrediction_Keras/blob/master/Ml_Proj.ipynb\" target=\"_parent\"><img src=\"https://colab.research.google.com/assets/colab-badge.svg\" alt=\"Open In Colab\"/></a>"
      ]
    },
    {
      "metadata": {
        "id": "YisNcyxuidKj",
        "colab_type": "text"
      },
      "cell_type": "markdown",
      "source": [
        "# **Weather Prediction with GRU in TensorFlow**\n",
        "\n",
        "**Data Used** : 10 years weather data of city Basel, Switzerland"
      ]
    },
    {
      "metadata": {
        "id": "SYKyq4WtjqBs",
        "colab_type": "text"
      },
      "cell_type": "markdown",
      "source": [
        "# Import necessary libraries"
      ]
    },
    {
      "metadata": {
        "id": "FXKWd2W7BOWD",
        "colab_type": "code",
        "colab": {}
      },
      "cell_type": "code",
      "source": [
        "%matplotlib inline\n",
        "import matplotlib.pyplot as plt\n",
        "import tensorflow as tf\n",
        "import numpy as np\n",
        "import pandas as pd\n",
        "import os\n",
        "from sklearn.preprocessing import MinMaxScaler"
      ],
      "execution_count": 0,
      "outputs": []
    },
    {
      "metadata": {
        "id": "_1SwP5byBOWR",
        "colab_type": "code",
        "colab": {}
      },
      "cell_type": "code",
      "source": [
        "from tensorflow.python.keras.models import Sequential\n",
        "from tensorflow.python.keras.layers import Input, Dense, GRU, Embedding\n",
        "from tensorflow.python.keras.optimizers import RMSprop\n",
        "from tensorflow.python.keras.callbacks import EarlyStopping, ModelCheckpoint, TensorBoard, ReduceLROnPlateau"
      ],
      "execution_count": 0,
      "outputs": []
    },
    {
      "metadata": {
        "id": "DcGqfgURj3Ty",
        "colab_type": "text"
      },
      "cell_type": "markdown",
      "source": [
        "# Load dataset"
      ]
    },
    {
      "metadata": {
        "id": "dX_L0r9wkVob",
        "colab_type": "text"
      },
      "cell_type": "markdown",
      "source": [
        "**Dataset details** \n",
        "\n",
        "*   Temperature : 2m above ground level, °C\n",
        "*   Relative Humidity : 2m above ground, %\n",
        "*   Mean Sea Level Pressure : MSL, hPa\n",
        "*   Total Precipitation : sfc, mm\n",
        "*   Snowfall Amount Raw : sfc, cm\n",
        "*   Total cloud over : sfc, %\n",
        "*   Sunshine Duration : sfc, min\n",
        "*   Shortwave Radiation : sfc, W/m2\n",
        "*   Wind Speed : 10m above ground,kmph\n",
        "*   Wind Direction : 10m above ground, °\n",
        "*   Wind Gust : sfc, kmph"
      ]
    },
    {
      "metadata": {
        "id": "-6qFYlxbGWbu",
        "colab_type": "code",
        "outputId": "080674e7-a7e4-4d12-b5f5-31fbf8374b7f",
        "colab": {
          "resources": {
            "http://localhost:8080/nbextensions/google.colab/files.js": {
              "data": "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",
              "ok": true,
              "headers": [
                [
                  "content-type",
                  "application/javascript"
                ]
              ],
              "status": 200,
              "status_text": "OK"
            }
          },
          "base_uri": "https://localhost:8080/",
          "height": 82
        }
      },
      "cell_type": "code",
      "source": [
        "from google.colab import files\n",
        "uploaded = files.upload()"
      ],
      "execution_count": 0,
      "outputs": [
        {
          "output_type": "display_data",
          "data": {
            "text/html": [
              "\n",
              "     <input type=\"file\" id=\"files-e10d5b72-88d9-4909-ab35-a15d0efd5cab\" name=\"files[]\" multiple disabled />\n",
              "     <output id=\"result-e10d5b72-88d9-4909-ab35-a15d0efd5cab\">\n",
              "      Upload widget is only available when the cell has been executed in the\n",
              "      current browser session. Please rerun this cell to enable.\n",
              "      </output>\n",
              "      <script src=\"/nbextensions/google.colab/files.js\"></script> "
            ],
            "text/plain": [
              "<IPython.core.display.HTML object>"
            ]
          },
          "metadata": {
            "tags": []
          }
        },
        {
          "output_type": "stream",
          "text": [
            "Saving dataset.csv to dataset (3).csv\n"
          ],
          "name": "stdout"
        }
      ]
    },
    {
      "metadata": {
        "id": "ezaCT_5eBOWa",
        "colab_type": "code",
        "outputId": "f44984c3-9812-4884-c2a4-fcd652e1f963",
        "colab": {
          "base_uri": "https://localhost:8080/",
          "height": 398
        }
      },
      "cell_type": "code",
      "source": [
        "import io\n",
        "\n",
        "df = pd.read_csv(io.StringIO(uploaded['dataset.csv'].decode('utf-8')))\n",
        "\n",
        "df.head(10)"
      ],
      "execution_count": 0,
      "outputs": [
        {
          "output_type": "execute_result",
          "data": {
            "text/html": [
              "<div>\n",
              "<style scoped>\n",
              "    .dataframe tbody tr th:only-of-type {\n",
              "        vertical-align: middle;\n",
              "    }\n",
              "\n",
              "    .dataframe tbody tr th {\n",
              "        vertical-align: top;\n",
              "    }\n",
              "\n",
              "    .dataframe thead th {\n",
              "        text-align: right;\n",
              "    }\n",
              "</style>\n",
              "<table border=\"1\" class=\"dataframe\">\n",
              "  <thead>\n",
              "    <tr style=\"text-align: right;\">\n",
              "      <th></th>\n",
              "      <th>Year</th>\n",
              "      <th>Month</th>\n",
              "      <th>Day</th>\n",
              "      <th>Hour</th>\n",
              "      <th>Minute</th>\n",
              "      <th>Temperature</th>\n",
              "      <th>Humidity</th>\n",
              "      <th>Pressure</th>\n",
              "      <th>Precipitation</th>\n",
              "      <th>Snowfall</th>\n",
              "      <th>Total Cloud Cover</th>\n",
              "      <th>Sunshine Dur</th>\n",
              "      <th>Shortwave Radiation</th>\n",
              "      <th>Wind Speed</th>\n",
              "      <th>Wind Direction</th>\n",
              "      <th>Wind Gust</th>\n",
              "    </tr>\n",
              "  </thead>\n",
              "  <tbody>\n",
              "    <tr>\n",
              "      <th>0</th>\n",
              "      <td>2008</td>\n",
              "      <td>10</td>\n",
              "      <td>1</td>\n",
              "      <td>0</td>\n",
              "      <td>0</td>\n",
              "      <td>12.92</td>\n",
              "      <td>70</td>\n",
              "      <td>1011.5</td>\n",
              "      <td>0.0</td>\n",
              "      <td>0.0</td>\n",
              "      <td>100.0</td>\n",
              "      <td>0.00</td>\n",
              "      <td>0.00</td>\n",
              "      <td>26.53</td>\n",
              "      <td>251.81</td>\n",
              "      <td>59.04</td>\n",
              "    </tr>\n",
              "    <tr>\n",
              "      <th>1</th>\n",
              "      <td>2008</td>\n",
              "      <td>10</td>\n",
              "      <td>1</td>\n",
              "      <td>1</td>\n",
              "      <td>0</td>\n",
              "      <td>12.52</td>\n",
              "      <td>74</td>\n",
              "      <td>1011.4</td>\n",
              "      <td>0.0</td>\n",
              "      <td>0.0</td>\n",
              "      <td>100.0</td>\n",
              "      <td>0.00</td>\n",
              "      <td>0.00</td>\n",
              "      <td>24.98</td>\n",
              "      <td>254.96</td>\n",
              "      <td>56.88</td>\n",
              "    </tr>\n",
              "    <tr>\n",
              "      <th>2</th>\n",
              "      <td>2008</td>\n",
              "      <td>10</td>\n",
              "      <td>1</td>\n",
              "      <td>2</td>\n",
              "      <td>0</td>\n",
              "      <td>12.52</td>\n",
              "      <td>75</td>\n",
              "      <td>1011.6</td>\n",
              "      <td>0.0</td>\n",
              "      <td>0.0</td>\n",
              "      <td>100.0</td>\n",
              "      <td>0.00</td>\n",
              "      <td>0.00</td>\n",
              "      <td>24.14</td>\n",
              "      <td>252.65</td>\n",
              "      <td>54.36</td>\n",
              "    </tr>\n",
              "    <tr>\n",
              "      <th>3</th>\n",
              "      <td>2008</td>\n",
              "      <td>10</td>\n",
              "      <td>1</td>\n",
              "      <td>3</td>\n",
              "      <td>0</td>\n",
              "      <td>12.32</td>\n",
              "      <td>78</td>\n",
              "      <td>1011.1</td>\n",
              "      <td>0.0</td>\n",
              "      <td>0.0</td>\n",
              "      <td>100.0</td>\n",
              "      <td>0.00</td>\n",
              "      <td>0.00</td>\n",
              "      <td>22.01</td>\n",
              "      <td>254.83</td>\n",
              "      <td>51.12</td>\n",
              "    </tr>\n",
              "    <tr>\n",
              "      <th>4</th>\n",
              "      <td>2008</td>\n",
              "      <td>10</td>\n",
              "      <td>1</td>\n",
              "      <td>4</td>\n",
              "      <td>0</td>\n",
              "      <td>12.41</td>\n",
              "      <td>77</td>\n",
              "      <td>1010.5</td>\n",
              "      <td>0.0</td>\n",
              "      <td>0.0</td>\n",
              "      <td>100.0</td>\n",
              "      <td>0.00</td>\n",
              "      <td>0.00</td>\n",
              "      <td>20.73</td>\n",
              "      <td>249.68</td>\n",
              "      <td>54.00</td>\n",
              "    </tr>\n",
              "    <tr>\n",
              "      <th>5</th>\n",
              "      <td>2008</td>\n",
              "      <td>10</td>\n",
              "      <td>1</td>\n",
              "      <td>5</td>\n",
              "      <td>0</td>\n",
              "      <td>12.11</td>\n",
              "      <td>70</td>\n",
              "      <td>1011.1</td>\n",
              "      <td>0.0</td>\n",
              "      <td>0.0</td>\n",
              "      <td>100.0</td>\n",
              "      <td>0.00</td>\n",
              "      <td>0.00</td>\n",
              "      <td>24.48</td>\n",
              "      <td>250.23</td>\n",
              "      <td>58.32</td>\n",
              "    </tr>\n",
              "    <tr>\n",
              "      <th>6</th>\n",
              "      <td>2008</td>\n",
              "      <td>10</td>\n",
              "      <td>1</td>\n",
              "      <td>6</td>\n",
              "      <td>0</td>\n",
              "      <td>12.11</td>\n",
              "      <td>70</td>\n",
              "      <td>1011.6</td>\n",
              "      <td>0.0</td>\n",
              "      <td>0.0</td>\n",
              "      <td>100.0</td>\n",
              "      <td>0.00</td>\n",
              "      <td>0.00</td>\n",
              "      <td>26.42</td>\n",
              "      <td>250.08</td>\n",
              "      <td>60.48</td>\n",
              "    </tr>\n",
              "    <tr>\n",
              "      <th>7</th>\n",
              "      <td>2008</td>\n",
              "      <td>10</td>\n",
              "      <td>1</td>\n",
              "      <td>7</td>\n",
              "      <td>0</td>\n",
              "      <td>12.13</td>\n",
              "      <td>68</td>\n",
              "      <td>1011.4</td>\n",
              "      <td>0.0</td>\n",
              "      <td>0.0</td>\n",
              "      <td>2.0</td>\n",
              "      <td>58.72</td>\n",
              "      <td>12.46</td>\n",
              "      <td>26.94</td>\n",
              "      <td>247.20</td>\n",
              "      <td>60.84</td>\n",
              "    </tr>\n",
              "    <tr>\n",
              "      <th>8</th>\n",
              "      <td>2008</td>\n",
              "      <td>10</td>\n",
              "      <td>1</td>\n",
              "      <td>8</td>\n",
              "      <td>0</td>\n",
              "      <td>13.24</td>\n",
              "      <td>63</td>\n",
              "      <td>1011.0</td>\n",
              "      <td>0.0</td>\n",
              "      <td>0.0</td>\n",
              "      <td>100.0</td>\n",
              "      <td>0.00</td>\n",
              "      <td>144.18</td>\n",
              "      <td>30.30</td>\n",
              "      <td>249.84</td>\n",
              "      <td>61.20</td>\n",
              "    </tr>\n",
              "    <tr>\n",
              "      <th>9</th>\n",
              "      <td>2008</td>\n",
              "      <td>10</td>\n",
              "      <td>1</td>\n",
              "      <td>9</td>\n",
              "      <td>0</td>\n",
              "      <td>14.49</td>\n",
              "      <td>57</td>\n",
              "      <td>1010.9</td>\n",
              "      <td>0.0</td>\n",
              "      <td>0.0</td>\n",
              "      <td>100.0</td>\n",
              "      <td>0.00</td>\n",
              "      <td>288.36</td>\n",
              "      <td>35.31</td>\n",
              "      <td>253.41</td>\n",
              "      <td>60.48</td>\n",
              "    </tr>\n",
              "  </tbody>\n",
              "</table>\n",
              "</div>"
            ],
            "text/plain": [
              "   Year  Month  Day  Hour  Minute  Temperature  Humidity  Pressure  \\\n",
              "0  2008     10    1     0       0        12.92        70    1011.5   \n",
              "1  2008     10    1     1       0        12.52        74    1011.4   \n",
              "2  2008     10    1     2       0        12.52        75    1011.6   \n",
              "3  2008     10    1     3       0        12.32        78    1011.1   \n",
              "4  2008     10    1     4       0        12.41        77    1010.5   \n",
              "5  2008     10    1     5       0        12.11        70    1011.1   \n",
              "6  2008     10    1     6       0        12.11        70    1011.6   \n",
              "7  2008     10    1     7       0        12.13        68    1011.4   \n",
              "8  2008     10    1     8       0        13.24        63    1011.0   \n",
              "9  2008     10    1     9       0        14.49        57    1010.9   \n",
              "\n",
              "   Precipitation  Snowfall  Total Cloud Cover  Sunshine Dur  \\\n",
              "0            0.0       0.0              100.0          0.00   \n",
              "1            0.0       0.0              100.0          0.00   \n",
              "2            0.0       0.0              100.0          0.00   \n",
              "3            0.0       0.0              100.0          0.00   \n",
              "4            0.0       0.0              100.0          0.00   \n",
              "5            0.0       0.0              100.0          0.00   \n",
              "6            0.0       0.0              100.0          0.00   \n",
              "7            0.0       0.0                2.0         58.72   \n",
              "8            0.0       0.0              100.0          0.00   \n",
              "9            0.0       0.0              100.0          0.00   \n",
              "\n",
              "   Shortwave Radiation  Wind Speed  Wind Direction  Wind Gust  \n",
              "0                 0.00       26.53          251.81      59.04  \n",
              "1                 0.00       24.98          254.96      56.88  \n",
              "2                 0.00       24.14          252.65      54.36  \n",
              "3                 0.00       22.01          254.83      51.12  \n",
              "4                 0.00       20.73          249.68      54.00  \n",
              "5                 0.00       24.48          250.23      58.32  \n",
              "6                 0.00       26.42          250.08      60.48  \n",
              "7                12.46       26.94          247.20      60.84  \n",
              "8               144.18       30.30          249.84      61.20  \n",
              "9               288.36       35.31          253.41      60.48  "
            ]
          },
          "metadata": {
            "tags": []
          },
          "execution_count": 68
        }
      ]
    },
    {
      "metadata": {
        "id": "gPubMzc2pkAK",
        "colab_type": "text"
      },
      "cell_type": "markdown",
      "source": [
        "Drop unwanted columns. Remove minutes as they are the same throughout"
      ]
    },
    {
      "metadata": {
        "id": "SKxqyUasBOWz",
        "colab_type": "code",
        "colab": {}
      },
      "cell_type": "code",
      "source": [
        "df.drop(('Minute'), axis=1, inplace=True)"
      ],
      "execution_count": 0,
      "outputs": []
    },
    {
      "metadata": {
        "id": "n8MGdiOYqr57",
        "colab_type": "text"
      },
      "cell_type": "markdown",
      "source": [
        "# Data for Prediction"
      ]
    },
    {
      "metadata": {
        "id": "PmvbscL3pv2_",
        "colab_type": "text"
      },
      "cell_type": "markdown",
      "source": [
        "We are predicting** temperature **and **relative humidity** for the next 24 hours given the dataset. Assign these columns to target_classes array. "
      ]
    },
    {
      "metadata": {
        "id": "8luwAgwEBOW5",
        "colab_type": "code",
        "colab": {}
      },
      "cell_type": "code",
      "source": [
        "target_classes = ['Temperature', 'Humidity']"
      ],
      "execution_count": 0,
      "outputs": []
    },
    {
      "metadata": {
        "id": "9DMd29PUqjEM",
        "colab_type": "text"
      },
      "cell_type": "markdown",
      "source": [
        "The dataset contains 24 weather observations for 24 hours. In order to predict the next 24 hours, we need to shift the data to 24 time steps. \n",
        "\n",
        "**Note:**\n",
        "We give a negative of shift_steps so that it predicts the future 24 hours and not the past. "
      ]
    },
    {
      "metadata": {
        "id": "juD7DZoCBOXB",
        "colab_type": "code",
        "colab": {}
      },
      "cell_type": "code",
      "source": [
        "shift_days = 1\n",
        "shift_steps = shift_days * 24 "
      ],
      "execution_count": 0,
      "outputs": []
    },
    {
      "metadata": {
        "id": "kcA-OPRbBOXI",
        "colab_type": "code",
        "colab": {}
      },
      "cell_type": "code",
      "source": [
        "df_targets = df[target_classes].shift(-shift_steps)"
      ],
      "execution_count": 0,
      "outputs": []
    },
    {
      "metadata": {
        "id": "FfmaBmumy87D",
        "colab_type": "text"
      },
      "cell_type": "markdown",
      "source": [
        "Lets display the first shift_steps + 5 rows of the dataframe. The last 5 rows should be the same as the first 5 rows in the dataframe. "
      ]
    },
    {
      "metadata": {
        "id": "ZU9EA_BABOXR",
        "colab_type": "code",
        "outputId": "9b935195-3f09-4adf-965f-5db62b2ba459",
        "colab": {
          "base_uri": "https://localhost:8080/",
          "height": 959
        }
      },
      "cell_type": "code",
      "source": [
        "df[target_classes].head(shift_steps + 5)"
      ],
      "execution_count": 0,
      "outputs": [
        {
          "output_type": "execute_result",
          "data": {
            "text/html": [
              "<div>\n",
              "<style scoped>\n",
              "    .dataframe tbody tr th:only-of-type {\n",
              "        vertical-align: middle;\n",
              "    }\n",
              "\n",
              "    .dataframe tbody tr th {\n",
              "        vertical-align: top;\n",
              "    }\n",
              "\n",
              "    .dataframe thead th {\n",
              "        text-align: right;\n",
              "    }\n",
              "</style>\n",
              "<table border=\"1\" class=\"dataframe\">\n",
              "  <thead>\n",
              "    <tr style=\"text-align: right;\">\n",
              "      <th></th>\n",
              "      <th>Temperature</th>\n",
              "      <th>Humidity</th>\n",
              "    </tr>\n",
              "  </thead>\n",
              "  <tbody>\n",
              "    <tr>\n",
              "      <th>0</th>\n",
              "      <td>12.92</td>\n",
              "      <td>70</td>\n",
              "    </tr>\n",
              "    <tr>\n",
              "      <th>1</th>\n",
              "      <td>12.52</td>\n",
              "      <td>74</td>\n",
              "    </tr>\n",
              "    <tr>\n",
              "      <th>2</th>\n",
              "      <td>12.52</td>\n",
              "      <td>75</td>\n",
              "    </tr>\n",
              "    <tr>\n",
              "      <th>3</th>\n",
              "      <td>12.32</td>\n",
              "      <td>78</td>\n",
              "    </tr>\n",
              "    <tr>\n",
              "      <th>4</th>\n",
              "      <td>12.41</td>\n",
              "      <td>77</td>\n",
              "    </tr>\n",
              "    <tr>\n",
              "      <th>5</th>\n",
              "      <td>12.11</td>\n",
              "      <td>70</td>\n",
              "    </tr>\n",
              "    <tr>\n",
              "      <th>6</th>\n",
              "      <td>12.11</td>\n",
              "      <td>70</td>\n",
              "    </tr>\n",
              "    <tr>\n",
              "      <th>7</th>\n",
              "      <td>12.13</td>\n",
              "      <td>68</td>\n",
              "    </tr>\n",
              "    <tr>\n",
              "      <th>8</th>\n",
              "      <td>13.24</td>\n",
              "      <td>63</td>\n",
              "    </tr>\n",
              "    <tr>\n",
              "      <th>9</th>\n",
              "      <td>14.49</td>\n",
              "      <td>57</td>\n",
              "    </tr>\n",
              "    <tr>\n",
              "      <th>10</th>\n",
              "      <td>15.38</td>\n",
              "      <td>52</td>\n",
              "    </tr>\n",
              "    <tr>\n",
              "      <th>11</th>\n",
              "      <td>16.54</td>\n",
              "      <td>48</td>\n",
              "    </tr>\n",
              "    <tr>\n",
              "      <th>12</th>\n",
              "      <td>17.45</td>\n",
              "      <td>46</td>\n",
              "    </tr>\n",
              "    <tr>\n",
              "      <th>13</th>\n",
              "      <td>18.00</td>\n",
              "      <td>46</td>\n",
              "    </tr>\n",
              "    <tr>\n",
              "      <th>14</th>\n",
              "      <td>18.46</td>\n",
              "      <td>45</td>\n",
              "    </tr>\n",
              "    <tr>\n",
              "      <th>15</th>\n",
              "      <td>18.84</td>\n",
              "      <td>44</td>\n",
              "    </tr>\n",
              "    <tr>\n",
              "      <th>16</th>\n",
              "      <td>18.71</td>\n",
              "      <td>45</td>\n",
              "    </tr>\n",
              "    <tr>\n",
              "      <th>17</th>\n",
              "      <td>18.13</td>\n",
              "      <td>47</td>\n",
              "    </tr>\n",
              "    <tr>\n",
              "      <th>18</th>\n",
              "      <td>17.28</td>\n",
              "      <td>51</td>\n",
              "    </tr>\n",
              "    <tr>\n",
              "      <th>19</th>\n",
              "      <td>15.98</td>\n",
              "      <td>55</td>\n",
              "    </tr>\n",
              "    <tr>\n",
              "      <th>20</th>\n",
              "      <td>15.16</td>\n",
              "      <td>59</td>\n",
              "    </tr>\n",
              "    <tr>\n",
              "      <th>21</th>\n",
              "      <td>14.73</td>\n",
              "      <td>63</td>\n",
              "    </tr>\n",
              "    <tr>\n",
              "      <th>22</th>\n",
              "      <td>14.74</td>\n",
              "      <td>65</td>\n",
              "    </tr>\n",
              "    <tr>\n",
              "      <th>23</th>\n",
              "      <td>14.61</td>\n",
              "      <td>67</td>\n",
              "    </tr>\n",
              "    <tr>\n",
              "      <th>24</th>\n",
              "      <td>14.50</td>\n",
              "      <td>70</td>\n",
              "    </tr>\n",
              "    <tr>\n",
              "      <th>25</th>\n",
              "      <td>14.09</td>\n",
              "      <td>75</td>\n",
              "    </tr>\n",
              "    <tr>\n",
              "      <th>26</th>\n",
              "      <td>13.67</td>\n",
              "      <td>77</td>\n",
              "    </tr>\n",
              "    <tr>\n",
              "      <th>27</th>\n",
              "      <td>12.69</td>\n",
              "      <td>79</td>\n",
              "    </tr>\n",
              "    <tr>\n",
              "      <th>28</th>\n",
              "      <td>12.37</td>\n",
              "      <td>79</td>\n",
              "    </tr>\n",
              "  </tbody>\n",
              "</table>\n",
              "</div>"
            ],
            "text/plain": [
              "    Temperature  Humidity\n",
              "0         12.92        70\n",
              "1         12.52        74\n",
              "2         12.52        75\n",
              "3         12.32        78\n",
              "4         12.41        77\n",
              "5         12.11        70\n",
              "6         12.11        70\n",
              "7         12.13        68\n",
              "8         13.24        63\n",
              "9         14.49        57\n",
              "10        15.38        52\n",
              "11        16.54        48\n",
              "12        17.45        46\n",
              "13        18.00        46\n",
              "14        18.46        45\n",
              "15        18.84        44\n",
              "16        18.71        45\n",
              "17        18.13        47\n",
              "18        17.28        51\n",
              "19        15.98        55\n",
              "20        15.16        59\n",
              "21        14.73        63\n",
              "22        14.74        65\n",
              "23        14.61        67\n",
              "24        14.50        70\n",
              "25        14.09        75\n",
              "26        13.67        77\n",
              "27        12.69        79\n",
              "28        12.37        79"
            ]
          },
          "metadata": {
            "tags": []
          },
          "execution_count": 74
        }
      ]
    },
    {
      "metadata": {
        "id": "rlHFyV0IzQ4i",
        "colab_type": "code",
        "outputId": "bcf2ad2d-8bc5-41c0-ea6f-e841897a5f9b",
        "colab": {
          "base_uri": "https://localhost:8080/",
          "height": 206
        }
      },
      "cell_type": "code",
      "source": [
        "df_targets.head(5)"
      ],
      "execution_count": 0,
      "outputs": [
        {
          "output_type": "execute_result",
          "data": {
            "text/html": [
              "<div>\n",
              "<style scoped>\n",
              "    .dataframe tbody tr th:only-of-type {\n",
              "        vertical-align: middle;\n",
              "    }\n",
              "\n",
              "    .dataframe tbody tr th {\n",
              "        vertical-align: top;\n",
              "    }\n",
              "\n",
              "    .dataframe thead th {\n",
              "        text-align: right;\n",
              "    }\n",
              "</style>\n",
              "<table border=\"1\" class=\"dataframe\">\n",
              "  <thead>\n",
              "    <tr style=\"text-align: right;\">\n",
              "      <th></th>\n",
              "      <th>Temperature</th>\n",
              "      <th>Humidity</th>\n",
              "    </tr>\n",
              "  </thead>\n",
              "  <tbody>\n",
              "    <tr>\n",
              "      <th>0</th>\n",
              "      <td>14.50</td>\n",
              "      <td>70.0</td>\n",
              "    </tr>\n",
              "    <tr>\n",
              "      <th>1</th>\n",
              "      <td>14.09</td>\n",
              "      <td>75.0</td>\n",
              "    </tr>\n",
              "    <tr>\n",
              "      <th>2</th>\n",
              "      <td>13.67</td>\n",
              "      <td>77.0</td>\n",
              "    </tr>\n",
              "    <tr>\n",
              "      <th>3</th>\n",
              "      <td>12.69</td>\n",
              "      <td>79.0</td>\n",
              "    </tr>\n",
              "    <tr>\n",
              "      <th>4</th>\n",
              "      <td>12.37</td>\n",
              "      <td>79.0</td>\n",
              "    </tr>\n",
              "  </tbody>\n",
              "</table>\n",
              "</div>"
            ],
            "text/plain": [
              "   Temperature  Humidity\n",
              "0        14.50      70.0\n",
              "1        14.09      75.0\n",
              "2        13.67      77.0\n",
              "3        12.69      79.0\n",
              "4        12.37      79.0"
            ]
          },
          "metadata": {
            "tags": []
          },
          "execution_count": 121
        }
      ]
    },
    {
      "metadata": {
        "id": "SFC1OzwHzWxb",
        "colab_type": "text"
      },
      "cell_type": "markdown",
      "source": [
        "Now the last 5 rows of the dataframe is NaN as they have been shifted backwards. "
      ]
    },
    {
      "metadata": {
        "id": "UWHwHtEkBOXk",
        "colab_type": "code",
        "outputId": "35b3dd91-980f-4ff3-b0f0-f0b348a1b65e",
        "colab": {
          "base_uri": "https://localhost:8080/",
          "height": 206
        }
      },
      "cell_type": "code",
      "source": [
        "df_targets.tail()"
      ],
      "execution_count": 0,
      "outputs": [
        {
          "output_type": "execute_result",
          "data": {
            "text/html": [
              "<div>\n",
              "<style scoped>\n",
              "    .dataframe tbody tr th:only-of-type {\n",
              "        vertical-align: middle;\n",
              "    }\n",
              "\n",
              "    .dataframe tbody tr th {\n",
              "        vertical-align: top;\n",
              "    }\n",
              "\n",
              "    .dataframe thead th {\n",
              "        text-align: right;\n",
              "    }\n",
              "</style>\n",
              "<table border=\"1\" class=\"dataframe\">\n",
              "  <thead>\n",
              "    <tr style=\"text-align: right;\">\n",
              "      <th></th>\n",
              "      <th>Temperature</th>\n",
              "      <th>Humidity</th>\n",
              "    </tr>\n",
              "  </thead>\n",
              "  <tbody>\n",
              "    <tr>\n",
              "      <th>88387</th>\n",
              "      <td>NaN</td>\n",
              "      <td>NaN</td>\n",
              "    </tr>\n",
              "    <tr>\n",
              "      <th>88388</th>\n",
              "      <td>NaN</td>\n",
              "      <td>NaN</td>\n",
              "    </tr>\n",
              "    <tr>\n",
              "      <th>88389</th>\n",
              "      <td>NaN</td>\n",
              "      <td>NaN</td>\n",
              "    </tr>\n",
              "    <tr>\n",
              "      <th>88390</th>\n",
              "      <td>NaN</td>\n",
              "      <td>NaN</td>\n",
              "    </tr>\n",
              "    <tr>\n",
              "      <th>88391</th>\n",
              "      <td>NaN</td>\n",
              "      <td>NaN</td>\n",
              "    </tr>\n",
              "  </tbody>\n",
              "</table>\n",
              "</div>"
            ],
            "text/plain": [
              "       Temperature  Humidity\n",
              "88387          NaN       NaN\n",
              "88388          NaN       NaN\n",
              "88389          NaN       NaN\n",
              "88390          NaN       NaN\n",
              "88391          NaN       NaN"
            ]
          },
          "metadata": {
            "tags": []
          },
          "execution_count": 75
        }
      ]
    },
    {
      "metadata": {
        "id": "4qEMFosjzkiN",
        "colab_type": "text"
      },
      "cell_type": "markdown",
      "source": [
        "# Arrays to feed to neural network"
      ]
    },
    {
      "metadata": {
        "id": "8_v28EVCztkI",
        "colab_type": "text"
      },
      "cell_type": "markdown",
      "source": [
        "**Input signals ** - The dataframe upto the shifted rows is converted to numpy array "
      ]
    },
    {
      "metadata": {
        "id": "fjygSa_kBOXu",
        "colab_type": "code",
        "colab": {}
      },
      "cell_type": "code",
      "source": [
        "x_data = df.values[0:-shift_steps]"
      ],
      "execution_count": 0,
      "outputs": []
    },
    {
      "metadata": {
        "id": "4NDHCAs_BOX3",
        "colab_type": "code",
        "outputId": "85aa8fce-5501-4867-c9d8-aff15df8fbbc",
        "colab": {
          "base_uri": "https://localhost:8080/",
          "height": 52
        }
      },
      "cell_type": "code",
      "source": [
        "print(type(x_data))\n",
        "print(\"Shape:\", x_data.shape)"
      ],
      "execution_count": 0,
      "outputs": [
        {
          "output_type": "stream",
          "text": [
            "<class 'numpy.ndarray'>\n",
            "Shape: (88368, 15)\n"
          ],
          "name": "stdout"
        }
      ]
    },
    {
      "metadata": {
        "id": "KqS1eMkD0Gn7",
        "colab_type": "text"
      },
      "cell_type": "markdown",
      "source": [
        "**Output signals** - The dataframe from the shifted rows is converted to numpy array"
      ]
    },
    {
      "metadata": {
        "id": "o-M3q5nBBOYB",
        "colab_type": "code",
        "colab": {}
      },
      "cell_type": "code",
      "source": [
        "y_data = df_targets.values[:-shift_steps]"
      ],
      "execution_count": 0,
      "outputs": []
    },
    {
      "metadata": {
        "id": "RJQphxMCBOYI",
        "colab_type": "code",
        "outputId": "3add38db-d0bd-463e-e6f4-59dc667ebb17",
        "colab": {
          "base_uri": "https://localhost:8080/",
          "height": 52
        }
      },
      "cell_type": "code",
      "source": [
        "print(type(y_data))\n",
        "print(\"Shape:\", y_data.shape)"
      ],
      "execution_count": 0,
      "outputs": [
        {
          "output_type": "stream",
          "text": [
            "<class 'numpy.ndarray'>\n",
            "Shape: (88368, 2)\n"
          ],
          "name": "stdout"
        }
      ]
    },
    {
      "metadata": {
        "id": "JEn54RmZ0XdX",
        "colab_type": "text"
      },
      "cell_type": "markdown",
      "source": [
        "The number of samples in the dataset is"
      ]
    },
    {
      "metadata": {
        "id": "JZg4ANpOBOYP",
        "colab_type": "code",
        "outputId": "f2cd449a-11ca-4f46-ba08-7929972570b3",
        "colab": {
          "base_uri": "https://localhost:8080/",
          "height": 34
        }
      },
      "cell_type": "code",
      "source": [
        "len_data = len(x_data)\n",
        "len_data"
      ],
      "execution_count": 0,
      "outputs": [
        {
          "output_type": "execute_result",
          "data": {
            "text/plain": [
              "88368"
            ]
          },
          "metadata": {
            "tags": []
          },
          "execution_count": 80
        }
      ]
    },
    {
      "metadata": {
        "id": "yEuxG-xx0hnj",
        "colab_type": "text"
      },
      "cell_type": "markdown",
      "source": [
        "We use 80% of the data for training and the remaining 20% for testing. Hence we set the ratio to 0.8"
      ]
    },
    {
      "metadata": {
        "id": "Rjc0vNeIBOYX",
        "colab_type": "code",
        "colab": {}
      },
      "cell_type": "code",
      "source": [
        "train_split = 0.8"
      ],
      "execution_count": 0,
      "outputs": []
    },
    {
      "metadata": {
        "id": "oKsm70G70sNa",
        "colab_type": "text"
      },
      "cell_type": "markdown",
      "source": [
        "Number of observations in the training set is"
      ]
    },
    {
      "metadata": {
        "id": "aTfP8t9fBOYn",
        "colab_type": "code",
        "outputId": "910a53ad-b602-44a8-aa45-0927a141066c",
        "colab": {
          "base_uri": "https://localhost:8080/",
          "height": 34
        }
      },
      "cell_type": "code",
      "source": [
        "len_train = int(train_split * len_data)\n",
        "len_train"
      ],
      "execution_count": 0,
      "outputs": [
        {
          "output_type": "execute_result",
          "data": {
            "text/plain": [
              "70694"
            ]
          },
          "metadata": {
            "tags": []
          },
          "execution_count": 82
        }
      ]
    },
    {
      "metadata": {
        "id": "QLjM7QSY0wjR",
        "colab_type": "text"
      },
      "cell_type": "markdown",
      "source": [
        "Number of observations in the testing set is"
      ]
    },
    {
      "metadata": {
        "id": "EgdEcem1BOY3",
        "colab_type": "code",
        "outputId": "f018b7bc-0227-42a2-ad8b-8e351cf41d6a",
        "colab": {
          "base_uri": "https://localhost:8080/",
          "height": 34
        }
      },
      "cell_type": "code",
      "source": [
        "len_test = len_data - len_train\n",
        "len_test"
      ],
      "execution_count": 0,
      "outputs": [
        {
          "output_type": "execute_result",
          "data": {
            "text/plain": [
              "17674"
            ]
          },
          "metadata": {
            "tags": []
          },
          "execution_count": 83
        }
      ]
    },
    {
      "metadata": {
        "id": "edZ2vPzp07Bc",
        "colab_type": "text"
      },
      "cell_type": "markdown",
      "source": [
        "Total input signals for training and testing sets is"
      ]
    },
    {
      "metadata": {
        "id": "8-q1JfTkBOZH",
        "colab_type": "code",
        "outputId": "0c81f3d0-7c27-49bc-bef1-471dd022f934",
        "colab": {
          "base_uri": "https://localhost:8080/",
          "height": 34
        }
      },
      "cell_type": "code",
      "source": [
        "x_train = x_data[0:len_train]\n",
        "x_test = x_data[len_train:]\n",
        "len(x_train) + len(x_test)"
      ],
      "execution_count": 0,
      "outputs": [
        {
          "output_type": "execute_result",
          "data": {
            "text/plain": [
              "88368"
            ]
          },
          "metadata": {
            "tags": []
          },
          "execution_count": 84
        }
      ]
    },
    {
      "metadata": {
        "id": "RUZr1keF1E0Z",
        "colab_type": "text"
      },
      "cell_type": "markdown",
      "source": [
        "Total output signals for training and testing set is"
      ]
    },
    {
      "metadata": {
        "id": "a5gTIQXqBOZU",
        "colab_type": "code",
        "outputId": "fafaf847-48b1-4944-d701-12ac0e93df0b",
        "colab": {
          "base_uri": "https://localhost:8080/",
          "height": 34
        }
      },
      "cell_type": "code",
      "source": [
        "y_train = y_data[0:len_train]\n",
        "y_test = y_data[len_train:]\n",
        "len(y_train) + len(y_test)"
      ],
      "execution_count": 0,
      "outputs": [
        {
          "output_type": "execute_result",
          "data": {
            "text/plain": [
              "88368"
            ]
          },
          "metadata": {
            "tags": []
          },
          "execution_count": 85
        }
      ]
    },
    {
      "metadata": {
        "id": "MqaBlOm51M0P",
        "colab_type": "text"
      },
      "cell_type": "markdown",
      "source": [
        "Number of input signals is"
      ]
    },
    {
      "metadata": {
        "id": "XTPOEvs_BOZb",
        "colab_type": "code",
        "outputId": "8eafa4b1-775f-43f1-dd45-54c2d4b42d24",
        "colab": {
          "base_uri": "https://localhost:8080/",
          "height": 34
        }
      },
      "cell_type": "code",
      "source": [
        "num_x_signals = x_data.shape[1]\n",
        "num_x_signals"
      ],
      "execution_count": 0,
      "outputs": [
        {
          "output_type": "execute_result",
          "data": {
            "text/plain": [
              "15"
            ]
          },
          "metadata": {
            "tags": []
          },
          "execution_count": 86
        }
      ]
    },
    {
      "metadata": {
        "id": "DDhT9Qp31P_P",
        "colab_type": "text"
      },
      "cell_type": "markdown",
      "source": [
        "Number of output signals is"
      ]
    },
    {
      "metadata": {
        "id": "kqA8MpNQBOZl",
        "colab_type": "code",
        "outputId": "66481143-a211-4b97-e919-4874f3c9a52a",
        "colab": {
          "base_uri": "https://localhost:8080/",
          "height": 34
        }
      },
      "cell_type": "code",
      "source": [
        "num_y_signals = y_data.shape[1]\n",
        "num_y_signals"
      ],
      "execution_count": 0,
      "outputs": [
        {
          "output_type": "execute_result",
          "data": {
            "text/plain": [
              "2"
            ]
          },
          "metadata": {
            "tags": []
          },
          "execution_count": 87
        }
      ]
    },
    {
      "metadata": {
        "id": "rRumMUnc1WgC",
        "colab_type": "text"
      },
      "cell_type": "markdown",
      "source": [
        "# Data Scaling"
      ]
    },
    {
      "metadata": {
        "id": "8_eUS0Ve6JeB",
        "colab_type": "text"
      },
      "cell_type": "markdown",
      "source": [
        "There is a wide range of values in the dataset."
      ]
    },
    {
      "metadata": {
        "id": "LGl98c2cBOZp",
        "colab_type": "code",
        "outputId": "c2cb4a72-30c5-438e-dd9a-c3ba43e324f9",
        "colab": {
          "base_uri": "https://localhost:8080/",
          "height": 52
        }
      },
      "cell_type": "code",
      "source": [
        "print(\"Min:\", np.min(x_train))\n",
        "print(\"Max:\", np.max(x_train))"
      ],
      "execution_count": 0,
      "outputs": [
        {
          "output_type": "stream",
          "text": [
            "Min: -12.52\n",
            "Max: 2016.0\n"
          ],
          "name": "stdout"
        }
      ]
    },
    {
      "metadata": {
        "id": "NTN8ohml6Rkt",
        "colab_type": "text"
      },
      "cell_type": "markdown",
      "source": [
        "Neural networks works best for values in the range -1 to 1. Hence we scale the data. "
      ]
    },
    {
      "metadata": {
        "id": "SlIrbVb8BOZy",
        "colab_type": "code",
        "colab": {}
      },
      "cell_type": "code",
      "source": [
        "x_scaler = MinMaxScaler()"
      ],
      "execution_count": 0,
      "outputs": []
    },
    {
      "metadata": {
        "id": "-jzGiuSfBOaI",
        "colab_type": "code",
        "colab": {}
      },
      "cell_type": "code",
      "source": [
        "x_train_scaled = x_scaler.fit_transform(x_train)"
      ],
      "execution_count": 0,
      "outputs": []
    },
    {
      "metadata": {
        "id": "g0Hx6LvYBOaM",
        "colab_type": "code",
        "outputId": "5526e774-913d-44b7-e9f6-527fd772fc75",
        "colab": {
          "base_uri": "https://localhost:8080/",
          "height": 52
        }
      },
      "cell_type": "code",
      "source": [
        "print(\"Min:\", np.min(x_train_scaled))\n",
        "print(\"Max:\", np.max(x_train_scaled))"
      ],
      "execution_count": 0,
      "outputs": [
        {
          "output_type": "stream",
          "text": [
            "Min: 0.0\n",
            "Max: 1.0000000000000018\n"
          ],
          "name": "stdout"
        }
      ]
    },
    {
      "metadata": {
        "id": "Qmhbme0FBOaa",
        "colab_type": "code",
        "colab": {}
      },
      "cell_type": "code",
      "source": [
        "x_test_scaled = x_scaler.transform(x_test)"
      ],
      "execution_count": 0,
      "outputs": []
    },
    {
      "metadata": {
        "id": "Kn4ioi5qBOad",
        "colab_type": "code",
        "colab": {}
      },
      "cell_type": "code",
      "source": [
        "y_scaler = MinMaxScaler()\n",
        "y_train_scaled = y_scaler.fit_transform(y_train)\n",
        "y_test_scaled = y_scaler.transform(y_test)"
      ],
      "execution_count": 0,
      "outputs": []
    },
    {
      "metadata": {
        "id": "NHeqA4CF6_g6",
        "colab_type": "text"
      },
      "cell_type": "markdown",
      "source": [
        "# Data Generator"
      ]
    },
    {
      "metadata": {
        "id": "ra2j47PYBOak",
        "colab_type": "code",
        "outputId": "57693de1-7b55-4b94-ca4e-ca87f1755f6f",
        "colab": {
          "base_uri": "https://localhost:8080/",
          "height": 52
        }
      },
      "cell_type": "code",
      "source": [
        "print(x_train_scaled.shape)\n",
        "print(y_train_scaled.shape)"
      ],
      "execution_count": 0,
      "outputs": [
        {
          "output_type": "stream",
          "text": [
            "(70694, 15)\n",
            "(70694, 2)\n"
          ],
          "name": "stdout"
        }
      ]
    },
    {
      "metadata": {
        "id": "W9aC6CpA7I7d",
        "colab_type": "text"
      },
      "cell_type": "markdown",
      "source": [
        "Create a function that create batches of smaller sub sequences from the training dataset."
      ]
    },
    {
      "metadata": {
        "id": "AlSKW5EJBOap",
        "colab_type": "code",
        "colab": {}
      },
      "cell_type": "code",
      "source": [
        "def batch_generator(batch_size, sequence_length):\n",
        "    \n",
        "    while True:\n",
        "        # Allocate a new array for the batch of input-signals.\n",
        "        x_shape = (batch_size, sequence_length, num_x_signals)\n",
        "        x_batch = np.zeros(shape=x_shape, dtype=np.float16)\n",
        "\n",
        "        # Allocate a new array for the batch of output-signals.\n",
        "        y_shape = (batch_size, sequence_length, num_y_signals)\n",
        "        y_batch = np.zeros(shape=y_shape, dtype=np.float16)\n",
        "\n",
        "        # Fill the batch with random sequences of data.\n",
        "        for i in range(batch_size):\n",
        "            idx = np.random.randint(len_train - sequence_length)\n",
        "            \n",
        "            # Copy the sequences of data starting at this index.\n",
        "            x_batch[i] = x_train_scaled[idx:idx+sequence_length]\n",
        "            y_batch[i] = y_train_scaled[idx:idx+sequence_length]\n",
        "        \n",
        "        yield (x_batch, y_batch)"
      ],
      "execution_count": 0,
      "outputs": []
    },
    {
      "metadata": {
        "id": "uq-6Kgz67v6V",
        "colab_type": "text"
      },
      "cell_type": "markdown",
      "source": [
        "We give a higher batch size to utilise the GPU to its fullest. Each sequence carries 24 hour data for 8 weeks."
      ]
    },
    {
      "metadata": {
        "id": "UJWY-zTGBOat",
        "colab_type": "code",
        "outputId": "ae76ee3a-55e8-4c2f-d642-506c1960e149",
        "colab": {
          "base_uri": "https://localhost:8080/",
          "height": 34
        }
      },
      "cell_type": "code",
      "source": [
        "batch_size = 256\n",
        "sequence_length = 24 * 7 * 8\n",
        "sequence_length"
      ],
      "execution_count": 0,
      "outputs": [
        {
          "output_type": "execute_result",
          "data": {
            "text/plain": [
              "1344"
            ]
          },
          "metadata": {
            "tags": []
          },
          "execution_count": 96
        }
      ]
    },
    {
      "metadata": {
        "id": "kgWgwHyS8EUe",
        "colab_type": "text"
      },
      "cell_type": "markdown",
      "source": [
        "We then create the batch generator"
      ]
    },
    {
      "metadata": {
        "id": "wiw8LZR0BOax",
        "colab_type": "code",
        "colab": {}
      },
      "cell_type": "code",
      "source": [
        "generator = batch_generator(batch_size=batch_size,\n",
        "                            sequence_length=sequence_length)"
      ],
      "execution_count": 0,
      "outputs": []
    },
    {
      "metadata": {
        "id": "QKT2bHiG8Pap",
        "colab_type": "text"
      },
      "cell_type": "markdown",
      "source": [
        "We can test this. The next() will generate random batch of 256 sequences, each sequence containing 24 hours data for 8 weeks. "
      ]
    },
    {
      "metadata": {
        "id": "vcYQD6VoBOa0",
        "colab_type": "code",
        "colab": {}
      },
      "cell_type": "code",
      "source": [
        "x_batch, y_batch = next(generator)"
      ],
      "execution_count": 0,
      "outputs": []
    },
    {
      "metadata": {
        "id": "FsIu8n_lBOa9",
        "colab_type": "code",
        "outputId": "e851f3ea-3115-4c78-a25f-9af5f2285364",
        "colab": {
          "base_uri": "https://localhost:8080/",
          "height": 52
        }
      },
      "cell_type": "code",
      "source": [
        "print(x_batch.shape)\n",
        "print(y_batch.shape)"
      ],
      "execution_count": 0,
      "outputs": [
        {
          "output_type": "stream",
          "text": [
            "(256, 1344, 15)\n",
            "(256, 1344, 2)\n"
          ],
          "name": "stdout"
        }
      ]
    },
    {
      "metadata": {
        "id": "ea9TfWmb8lE4",
        "colab_type": "text"
      },
      "cell_type": "markdown",
      "source": [
        "Plot one of the input signals(here 5th signal - Temperature)"
      ]
    },
    {
      "metadata": {
        "id": "1p178HhcBObD",
        "colab_type": "code",
        "outputId": "e733b245-7837-4027-cc24-1bd7fe638f2f",
        "colab": {
          "base_uri": "https://localhost:8080/",
          "height": 282
        }
      },
      "cell_type": "code",
      "source": [
        "batch = 0  \n",
        "signal = 5 \n",
        "seq = x_batch[batch, :, signal]\n",
        "plt.plot(seq)"
      ],
      "execution_count": 0,
      "outputs": [
        {
          "output_type": "execute_result",
          "data": {
            "text/plain": [
              "[<matplotlib.lines.Line2D at 0x7efd115d9e80>]"
            ]
          },
          "metadata": {
            "tags": []
          },
          "execution_count": 100
        },
        {
          "output_type": "display_data",
          "data": {
            "image/png": "[encoded data removed]",
            "text/plain": [
              "<matplotlib.figure.Figure at 0x7efd11629cc0>"
            ]
          },
          "metadata": {
            "tags": []
          }
        }
      ]
    },
    {
      "metadata": {
        "id": "v0x-rfHj80CH",
        "colab_type": "text"
      },
      "cell_type": "markdown",
      "source": [
        "Plot one of the output signals(here 1st signal - again Temperature)"
      ]
    },
    {
      "metadata": {
        "id": "o320mawABObJ",
        "colab_type": "code",
        "outputId": "0a5284e4-9290-4691-d1d6-64183fef1135",
        "colab": {
          "base_uri": "https://localhost:8080/",
          "height": 282
        }
      },
      "cell_type": "code",
      "source": [
        "seq = y_batch[batch, :, 1]\n",
        "plt.plot(seq)"
      ],
      "execution_count": 0,
      "outputs": [
        {
          "output_type": "execute_result",
          "data": {
            "text/plain": [
              "[<matplotlib.lines.Line2D at 0x7efd1156f6a0>]"
            ]
          },
          "metadata": {
            "tags": []
          },
          "execution_count": 101
        },
        {
          "output_type": "display_data",
          "data": {
            "image/png": "[encoded data removed]",
            "text/plain": [
              "<matplotlib.figure.Figure at 0x7efd11623f98>"
            ]
          },
          "metadata": {
            "tags": []
          }
        }
      ]
    },
    {
      "metadata": {
        "id": "RNHapeaO9CXn",
        "colab_type": "text"
      },
      "cell_type": "markdown",
      "source": [
        "# Validation Set"
      ]
    },
    {
      "metadata": {
        "id": "-SYEohUv9GQB",
        "colab_type": "text"
      },
      "cell_type": "markdown",
      "source": [
        "This is done to prevent overfitting. In case, if there is no improvement after an epoch, the model's weight wont be saved. "
      ]
    },
    {
      "metadata": {
        "id": "c2F4LCdSBObM",
        "colab_type": "code",
        "colab": {}
      },
      "cell_type": "code",
      "source": [
        "validation_data = (np.expand_dims(x_test_scaled, axis=0),\n",
        "                   np.expand_dims(y_test_scaled, axis=0))"
      ],
      "execution_count": 0,
      "outputs": []
    },
    {
      "metadata": {
        "id": "DYrLD79Y9XCL",
        "colab_type": "text"
      },
      "cell_type": "markdown",
      "source": [
        "# Create RNN"
      ]
    },
    {
      "metadata": {
        "id": "F5GCBPzsPfWy",
        "colab_type": "text"
      },
      "cell_type": "markdown",
      "source": [
        "Initialise model with Keras API. Add a Gated Recurrent Unit(GRU) to the model. This will have 512 outputs for each timestep in the sequence. "
      ]
    },
    {
      "metadata": {
        "id": "OfeWXs1pBObR",
        "colab_type": "code",
        "colab": {}
      },
      "cell_type": "code",
      "source": [
        "model = Sequential()\n",
        "model.add(GRU(units=512,\n",
        "              return_sequences=True,\n",
        "              input_shape=(None, num_x_signals,)))"
      ],
      "execution_count": 0,
      "outputs": []
    },
    {
      "metadata": {
        "id": "8cVV6JuqQPya",
        "colab_type": "text"
      },
      "cell_type": "markdown",
      "source": [
        "We only predict 2 featres, namely, Temperature and humidity. For that, we need to predict only 2 signals from 512 values. Hence, we use a fully connected Dense layer to map the 512 values to 2 values."
      ]
    },
    {
      "metadata": {
        "id": "73-i33zRBObU",
        "colab_type": "code",
        "colab": {}
      },
      "cell_type": "code",
      "source": [
        "model.add(Dense(num_y_signals, activation='sigmoid'))"
      ],
      "execution_count": 0,
      "outputs": []
    },
    {
      "metadata": {
        "id": "eaAXTIl8WLBp",
        "colab_type": "text"
      },
      "cell_type": "markdown",
      "source": [
        "Use a linear activation function on the output to allow the output to take on arbitrary values."
      ]
    },
    {
      "metadata": {
        "id": "61iu6zJ6BObV",
        "colab_type": "code",
        "colab": {}
      },
      "cell_type": "code",
      "source": [
        "if False:\n",
        "    from tensorflow.python.keras.initializers import RandomUniform\n",
        "\n",
        "    init = RandomUniform(minval=-0.05, maxval=0.05)\n",
        "\n",
        "    model.add(Dense(num_y_signals,\n",
        "                    activation='linear',\n",
        "                    kernel_initializer=init))"
      ],
      "execution_count": 0,
      "outputs": []
    },
    {
      "metadata": {
        "id": "RtFu0NiTUe5s",
        "colab_type": "text"
      },
      "cell_type": "markdown",
      "source": [
        "Use MSE as loss function. During the initial few timesteps, the output predicted wont be accurate as it has seen only few timesteps. Hence we need not include the accuracy of loss function for few timesteps. Let us ignore the accuracy for first 50 timesteps."
      ]
    },
    {
      "metadata": {
        "id": "EXhLVmMoBObY",
        "colab_type": "code",
        "colab": {}
      },
      "cell_type": "code",
      "source": [
        "warmup_steps = 50"
      ],
      "execution_count": 0,
      "outputs": []
    },
    {
      "metadata": {
        "id": "eWSIIU8fBObb",
        "colab_type": "code",
        "colab": {}
      },
      "cell_type": "code",
      "source": [
        "def loss_mse_warmup(y_true, y_pred):\n",
        "  \n",
        "    y_true_slice = y_true[:, warmup_steps:, :]\n",
        "    y_pred_slice = y_pred[:, warmup_steps:, :]\n",
        "\n",
        "    loss = tf.losses.mean_squared_error(labels=y_true_slice,\n",
        "                                        predictions=y_pred_slice)\n",
        "\n",
        "    loss_mean = tf.reduce_mean(loss)\n",
        "\n",
        "    return loss_mean"
      ],
      "execution_count": 0,
      "outputs": []
    },
    {
      "metadata": {
        "id": "nevbThhPWfUc",
        "colab_type": "text"
      },
      "cell_type": "markdown",
      "source": [
        "Compile the model using RMSProp as the optimiser. RMSprop is an adaptive learning rate method which keeps a moving average of the squared gradient for each weight. "
      ]
    },
    {
      "metadata": {
        "id": "ivqi-eppBObd",
        "colab_type": "code",
        "colab": {}
      },
      "cell_type": "code",
      "source": [
        "optimizer = RMSprop(lr=1e-3)\n",
        "model.compile(loss=loss_mse_warmup, optimizer=optimizer)"
      ],
      "execution_count": 0,
      "outputs": []
    },
    {
      "metadata": {
        "id": "0qAgW7uLBObg",
        "colab_type": "code",
        "outputId": "c09a7b19-07cf-49e8-8c54-450ff133e193",
        "colab": {
          "base_uri": "https://localhost:8080/",
          "height": 208
        }
      },
      "cell_type": "code",
      "source": [
        "model.summary()"
      ],
      "execution_count": 0,
      "outputs": [
        {
          "output_type": "stream",
          "text": [
            "_________________________________________________________________\n",
            "Layer (type)                 Output Shape              Param #   \n",
            "=================================================================\n",
            "gru_1 (GRU)                  (None, None, 512)         811008    \n",
            "_________________________________________________________________\n",
            "dense_1 (Dense)              (None, None, 2)           1026      \n",
            "=================================================================\n",
            "Total params: 812,034\n",
            "Trainable params: 812,034\n",
            "Non-trainable params: 0\n",
            "_________________________________________________________________\n"
          ],
          "name": "stdout"
        }
      ]
    },
    {
      "metadata": {
        "id": "i2ju2MtiX6tS",
        "colab_type": "text"
      },
      "cell_type": "markdown",
      "source": [
        "# Callback functions"
      ]
    },
    {
      "metadata": {
        "id": "PY6CSRnqX_Ui",
        "colab_type": "text"
      },
      "cell_type": "markdown",
      "source": [
        "In order to save checkpoints during training, we use TensorBoard to create callbacks. "
      ]
    },
    {
      "metadata": {
        "id": "QmQGOe-hYbh5",
        "colab_type": "text"
      },
      "cell_type": "markdown",
      "source": [
        "callback_checkpoint is used to write the checkpoints during training. "
      ]
    },
    {
      "metadata": {
        "id": "3p1W2bK_BObn",
        "colab_type": "code",
        "colab": {}
      },
      "cell_type": "code",
      "source": [
        "path_checkpoint = '23_checkpoint.keras'\n",
        "callback_checkpoint = ModelCheckpoint(filepath=path_checkpoint,\n",
        "                                      monitor='val_loss',\n",
        "                                      verbose=1,\n",
        "                                      save_weights_only=True,\n",
        "                                      save_best_only=True)"
      ],
      "execution_count": 0,
      "outputs": []
    },
    {
      "metadata": {
        "id": "SsRZ_K18YmP_",
        "colab_type": "text"
      },
      "cell_type": "markdown",
      "source": [
        "callback_early_stopping is used in case when the performance worsens on the training dataset. "
      ]
    },
    {
      "metadata": {
        "id": "CkzkMQtFBObq",
        "colab_type": "code",
        "colab": {}
      },
      "cell_type": "code",
      "source": [
        "callback_early_stopping = EarlyStopping(monitor='val_loss',\n",
        "                                        patience=5, verbose=1)"
      ],
      "execution_count": 0,
      "outputs": []
    },
    {
      "metadata": {
        "id": "KfMOHS73ZKCO",
        "colab_type": "text"
      },
      "cell_type": "markdown",
      "source": [
        "callback_tensorboard is used to write the log during training. "
      ]
    },
    {
      "metadata": {
        "id": "4K4spR-3BOcA",
        "colab_type": "code",
        "colab": {}
      },
      "cell_type": "code",
      "source": [
        "callback_tensorboard = TensorBoard(log_dir='./23_logs/',\n",
        "                                   histogram_freq=0,\n",
        "                                   write_graph=False)"
      ],
      "execution_count": 0,
      "outputs": []
    },
    {
      "metadata": {
        "id": "Ibw1z_gVZRCO",
        "colab_type": "text"
      },
      "cell_type": "markdown",
      "source": [
        "Due to some reasons, in case if the validation loss does not improve from the previous epoch, we need to reduce the learning rate. This is done using callback_reduce_lr"
      ]
    },
    {
      "metadata": {
        "id": "8dorx7mlBOcC",
        "colab_type": "code",
        "colab": {}
      },
      "cell_type": "code",
      "source": [
        "callback_reduce_lr = ReduceLROnPlateau(monitor='val_loss',\n",
        "                                       factor=0.1,\n",
        "                                       min_lr=1e-4,\n",
        "                                       patience=0,\n",
        "                                       verbose=1)"
      ],
      "execution_count": 0,
      "outputs": []
    },
    {
      "metadata": {
        "id": "87W8L19jBOcE",
        "colab_type": "code",
        "colab": {}
      },
      "cell_type": "code",
      "source": [
        "callbacks = [callback_early_stopping,\n",
        "             callback_checkpoint,\n",
        "             callback_tensorboard,\n",
        "             callback_reduce_lr]"
      ],
      "execution_count": 0,
      "outputs": []
    },
    {
      "metadata": {
        "id": "UKdoiuWVZszT",
        "colab_type": "text"
      },
      "cell_type": "markdown",
      "source": [
        "# Train RNN"
      ]
    },
    {
      "metadata": {
        "id": "xA8ZjKi-BOcQ",
        "colab_type": "code",
        "outputId": "1eb1d8bc-c893-4126-f754-1871ee001703",
        "colab": {
          "base_uri": "https://localhost:8080/",
          "height": 1528
        }
      },
      "cell_type": "code",
      "source": [
        "%%time\n",
        "model.fit_generator(generator=generator,\n",
        "                    epochs=20,\n",
        "                    steps_per_epoch=50,\n",
        "                    validation_data=validation_data,\n",
        "                    callbacks=callbacks)"
      ],
      "execution_count": 0,
      "outputs": [
        {
          "output_type": "stream",
          "text": [
            "Epoch 1/20\n",
            "49/50 [============================>.] - ETA: 4s - loss: 0.0175\n",
            "Epoch 00001: val_loss improved from inf to 0.01405, saving model to 23_checkpoint.keras\n",
            "50/50 [==============================] - 214s 4s/step - loss: 0.0174 - val_loss: 0.0140\n",
            "Epoch 2/20\n",
            "49/50 [============================>.] - ETA: 4s - loss: 0.0127\n",
            "Epoch 00002: val_loss improved from 0.01405 to 0.01106, saving model to 23_checkpoint.keras\n",
            "50/50 [==============================] - 213s 4s/step - loss: 0.0126 - val_loss: 0.0111\n",
            "Epoch 3/20\n",
            "49/50 [============================>.] - ETA: 4s - loss: 0.0117\n",
            "Epoch 00003: val_loss improved from 0.01106 to 0.01031, saving model to 23_checkpoint.keras\n",
            "50/50 [==============================] - 213s 4s/step - loss: 0.0116 - val_loss: 0.0103\n",
            "Epoch 4/20\n",
            "49/50 [============================>.] - ETA: 4s - loss: 0.0112\n",
            "Epoch 00004: val_loss did not improve from 0.01031\n",
            "\n",
            "Epoch 00004: ReduceLROnPlateau reducing learning rate to 0.00010000000474974513.\n",
            "50/50 [==============================] - 213s 4s/step - loss: 0.0112 - val_loss: 0.0107\n",
            "Epoch 5/20\n",
            "49/50 [============================>.] - ETA: 4s - loss: 0.0097\n",
            "Epoch 00005: val_loss improved from 0.01031 to 0.00976, saving model to 23_checkpoint.keras\n",
            "50/50 [==============================] - 217s 4s/step - loss: 0.0097 - val_loss: 0.0098\n",
            "Epoch 6/20\n",
            "49/50 [============================>.] - ETA: 4s - loss: 0.0095\n",
            "Epoch 00006: val_loss improved from 0.00976 to 0.00965, saving model to 23_checkpoint.keras\n",
            "50/50 [==============================] - 218s 4s/step - loss: 0.0095 - val_loss: 0.0097\n",
            "Epoch 7/20\n",
            "49/50 [============================>.] - ETA: 4s - loss: 0.0094\n",
            "Epoch 00007: val_loss improved from 0.00965 to 0.00959, saving model to 23_checkpoint.keras\n",
            "\n",
            "Epoch 00007: ReduceLROnPlateau reducing learning rate to 0.0001.\n",
            "50/50 [==============================] - 218s 4s/step - loss: 0.0094 - val_loss: 0.0096\n",
            "Epoch 8/20\n",
            "49/50 [============================>.] - ETA: 4s - loss: 0.0093\n",
            "Epoch 00008: val_loss did not improve from 0.00959\n",
            "50/50 [==============================] - 218s 4s/step - loss: 0.0093 - val_loss: 0.0096\n",
            "Epoch 9/20\n",
            "49/50 [============================>.] - ETA: 4s - loss: 0.0091\n",
            "Epoch 00009: val_loss improved from 0.00959 to 0.00953, saving model to 23_checkpoint.keras\n",
            "50/50 [==============================] - 218s 4s/step - loss: 0.0091 - val_loss: 0.0095\n",
            "Epoch 10/20\n",
            "49/50 [============================>.] - ETA: 4s - loss: 0.0090\n",
            "Epoch 00010: val_loss did not improve from 0.00953\n",
            "50/50 [==============================] - 218s 4s/step - loss: 0.0090 - val_loss: 0.0097\n",
            "Epoch 11/20\n",
            "49/50 [============================>.] - ETA: 4s - loss: 0.0090\n",
            "Epoch 00011: val_loss did not improve from 0.00953\n",
            "50/50 [==============================] - 218s 4s/step - loss: 0.0090 - val_loss: 0.0098\n",
            "Epoch 12/20\n",
            "49/50 [============================>.] - ETA: 4s - loss: 0.0089\n",
            "Epoch 00012: val_loss improved from 0.00953 to 0.00930, saving model to 23_checkpoint.keras\n",
            "50/50 [==============================] - 218s 4s/step - loss: 0.0089 - val_loss: 0.0093\n",
            "Epoch 13/20\n",
            "49/50 [============================>.] - ETA: 4s - loss: 0.0089\n",
            "Epoch 00013: val_loss did not improve from 0.00930\n",
            "50/50 [==============================] - 217s 4s/step - loss: 0.0089 - val_loss: 0.0093\n",
            "Epoch 14/20\n",
            "49/50 [============================>.] - ETA: 4s - loss: 0.0088\n",
            "Epoch 00014: val_loss improved from 0.00930 to 0.00922, saving model to 23_checkpoint.keras\n",
            "50/50 [==============================] - 215s 4s/step - loss: 0.0089 - val_loss: 0.0092\n",
            "Epoch 15/20\n",
            "49/50 [============================>.] - ETA: 4s - loss: 0.0088\n",
            "Epoch 00015: val_loss did not improve from 0.00922\n",
            "50/50 [==============================] - 215s 4s/step - loss: 0.0088 - val_loss: 0.0094\n",
            "Epoch 16/20\n",
            "49/50 [============================>.] - ETA: 4s - loss: 0.0088\n",
            "Epoch 00016: val_loss improved from 0.00922 to 0.00919, saving model to 23_checkpoint.keras\n",
            "50/50 [==============================] - 215s 4s/step - loss: 0.0088 - val_loss: 0.0092\n",
            "Epoch 17/20\n",
            "49/50 [============================>.] - ETA: 4s - loss: 0.0087\n",
            "Epoch 00017: val_loss did not improve from 0.00919\n",
            "50/50 [==============================] - 214s 4s/step - loss: 0.0087 - val_loss: 0.0093\n",
            "Epoch 18/20\n",
            "49/50 [============================>.] - ETA: 4s - loss: 0.0087\n",
            "Epoch 00018: val_loss did not improve from 0.00919\n",
            "50/50 [==============================] - 214s 4s/step - loss: 0.0087 - val_loss: 0.0097\n",
            "Epoch 19/20\n",
            "49/50 [============================>.] - ETA: 4s - loss: 0.0087\n",
            "Epoch 00019: val_loss did not improve from 0.00919\n",
            "50/50 [==============================] - 214s 4s/step - loss: 0.0087 - val_loss: 0.0093\n",
            "Epoch 20/20\n",
            "49/50 [============================>.] - ETA: 4s - loss: 0.0086\n",
            "Epoch 00020: val_loss did not improve from 0.00919\n",
            "50/50 [==============================] - 214s 4s/step - loss: 0.0086 - val_loss: 0.0095\n",
            "CPU times: user 1h 38min 4s, sys: 14min 30s, total: 1h 52min 34s\n",
            "Wall time: 1h 11min 53s\n"
          ],
          "name": "stdout"
        },
        {
          "output_type": "execute_result",
          "data": {
            "text/plain": [
              "<tensorflow.python.keras.callbacks.History at 0x7efd11027eb8>"
            ]
          },
          "metadata": {
            "tags": []
          },
          "execution_count": 115
        }
      ]
    },
    {
      "metadata": {
        "id": "xQLuV-hZaNHk",
        "colab_type": "text"
      },
      "cell_type": "markdown",
      "source": [
        "# Load Checkpoint"
      ]
    },
    {
      "metadata": {
        "id": "FAGn9m5Xaai3",
        "colab_type": "text"
      },
      "cell_type": "markdown",
      "source": [
        "This is used in case loss performance does not improve from its previous epoch. "
      ]
    },
    {
      "metadata": {
        "id": "QXgWxAUsBOcT",
        "colab_type": "code",
        "colab": {}
      },
      "cell_type": "code",
      "source": [
        "try:\n",
        "    model.load_weights(path_checkpoint)\n",
        "except Exception as error:\n",
        "    print(\"Error trying to load checkpoint.\")\n",
        "    print(error)"
      ],
      "execution_count": 0,
      "outputs": []
    },
    {
      "metadata": {
        "id": "eEcmPnUpa95N",
        "colab_type": "text"
      },
      "cell_type": "markdown",
      "source": [
        "# Evaluate Performance"
      ]
    },
    {
      "metadata": {
        "id": "Q2U3aCvibJoD",
        "colab_type": "text"
      },
      "cell_type": "markdown",
      "source": [
        "Performance of the model is evaluated on the test set. "
      ]
    },
    {
      "metadata": {
        "id": "4uNy_ADfKkOo",
        "colab_type": "code",
        "outputId": "2b2938ea-03a5-4e01-e456-6c0ae8dd1fac",
        "colab": {
          "base_uri": "https://localhost:8080/",
          "height": 34
        }
      },
      "cell_type": "code",
      "source": [
        "result = model.evaluate(x=np.expand_dims(x_test_scaled, axis=0),\n",
        "                        y=np.expand_dims(y_test_scaled, axis=0))"
      ],
      "execution_count": 0,
      "outputs": [
        {
          "output_type": "stream",
          "text": [
            "\r1/1 [==============================] - 8s 8s/step\n"
          ],
          "name": "stdout"
        }
      ]
    },
    {
      "metadata": {
        "id": "csJemVHjKmxT",
        "colab_type": "code",
        "outputId": "97fc282f-bd8a-4df2-d654-580d87e69744",
        "colab": {
          "base_uri": "https://localhost:8080/",
          "height": 34
        }
      },
      "cell_type": "code",
      "source": [
        "print(\"loss (test-set):\", result)"
      ],
      "execution_count": 0,
      "outputs": [
        {
          "output_type": "stream",
          "text": [
            "loss (test-set): 0.009188167750835419\n"
          ],
          "name": "stdout"
        }
      ]
    },
    {
      "metadata": {
        "id": "vnrVqabLgZH8",
        "colab_type": "text"
      },
      "cell_type": "markdown",
      "source": [
        "# Plot Predictions"
      ]
    },
    {
      "metadata": {
        "id": "QYGaUbb-Kpcq",
        "colab_type": "code",
        "colab": {}
      },
      "cell_type": "code",
      "source": [
        "def plot_comparison(start_idx, length=100, train=True):\n",
        "  \n",
        "    if train:\n",
        "        x = x_train_scaled\n",
        "        y_true = y_train\n",
        "    else:\n",
        "        x = x_test_scaled\n",
        "        y_true = y_test\n",
        "    \n",
        "    end_idx = start_idx + length\n",
        "    \n",
        "    x = x[start_idx:end_idx]\n",
        "    y_true = y_true[start_idx:end_idx]\n",
        "    \n",
        "    x = np.expand_dims(x, axis=0)\n",
        "\n",
        "    y_pred = model.predict(x)\n",
        "    \n",
        "    y_pred_rescaled = y_scaler.inverse_transform(y_pred[0])\n",
        "    \n",
        "    for signal in range(len(target_classes)):\n",
        "        signal_pred = y_pred_rescaled[:, signal]\n",
        "        \n",
        "        signal_true = y_true[:, signal]\n",
        "\n",
        "        plt.figure(figsize=(15,5))\n",
        "        \n",
        "        plt.plot(signal_true, label='true')\n",
        "        plt.plot(signal_pred, label='pred')\n",
        "        \n",
        "        p = plt.axvspan(0, warmup_steps, facecolor='black', alpha=0.15)\n",
        "        \n",
        "        plt.ylabel(target_classes[signal])\n",
        "        plt.legend()\n",
        "        plt.show()"
      ],
      "execution_count": 0,
      "outputs": []
    },
    {
      "metadata": {
        "id": "6nWgpYGGKtRx",
        "colab_type": "code",
        "outputId": "c383f075-ee1f-4643-c892-d614cf108ddd",
        "colab": {
          "base_uri": "https://localhost:8080/",
          "height": 623
        }
      },
      "cell_type": "code",
      "source": [
        "plot_comparison(start_idx=50000, length=1000, train=True)"
      ],
      "execution_count": 0,
      "outputs": [
        {
          "output_type": "display_data",
          "data": {
            "image/png": "[encoded data removed]",
            "text/plain": [
              "<matplotlib.figure.Figure at 0x7efd199d8ac8>"
            ]
          },
          "metadata": {
            "tags": []
          }
        },
        {
          "output_type": "display_data",
          "data": {
            "image/png": "[encoded data removed]",
            "text/plain": [
              "<matplotlib.figure.Figure at 0x7efd10267940>"
            ]
          },
          "metadata": {
            "tags": []
          }
        }
      ]
    },
    {
      "metadata": {
        "id": "wBsoGATEKwar",
        "colab_type": "code",
        "colab": {}
      },
      "cell_type": "code",
      "source": [
        ""
      ],
      "execution_count": 0,
      "outputs": []
    }
  ]
}